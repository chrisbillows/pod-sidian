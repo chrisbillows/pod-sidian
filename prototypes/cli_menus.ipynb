{
 "cells": [
  {
   "attachments": {},
   "cell_type": "markdown",
   "metadata": {},
   "source": [
    "# Menu Functionality\n",
    "\n",
    "Lets try and build the most simple menu loops possible (after the debacle protoype of last week!)\n",
    "\n",
    "First attempt is the most basic I can imagine. \n",
    "\n",
    "Each menu is a function with a series of options.  And mock a little bit of functionality if I can't avoid it.\n",
    "\n",
    "THE GOAL - the most simple spine possible.  Worry about making it modular etc. and classes and all those things afterwards.\n",
    "\n",
    "SIMPLE!"
   ]
  },
  {
   "cell_type": "code",
   "execution_count": null,
   "metadata": {},
   "outputs": [],
   "source": [
    "def validate(valid_choices, usr_choice):\n",
    "    if usr_choice in valid_choices:\n",
    "        return True \n",
    "    else:\n",
    "        print(f\">>> INVALID CHOICE: Please pick again from: {', '.join(str(x) for x in valid_choices)}\")\n",
    "        return False\n",
    "\n",
    "def main_menu():\n",
    "    print(\"----------MAIN MENU----------\\n1. View and delete tracked podcasts\\n2. Search and add a new podcast\\nq. Quit the program\\n\")\n",
    "    \n",
    "    # REMEMBER: nums as strings - using nums for UX proclivity, no need for them to be nums with more complex validation\n",
    "    menus = {'1': 'view_and_delete'  , '2': 'search_and_add', 'q': 'quit' }\n",
    "    \n",
    "    valid_choices = list(menus.keys())\n",
    "    valid = False \n",
    "    while valid == False:\n",
    "        user_choice = input(\": \")\n",
    "        valid = validate(valid_choices, user_choice)\n",
    "    go_to_menu = menus[user_choice]\n",
    "    return go_to_menu"
   ]
  },
  {
   "attachments": {},
   "cell_type": "markdown",
   "metadata": {},
   "source": [
    "So this works. Yes, yes, I built a validation function but this one should work for ANY menu...\n",
    "\n",
    "Am going to try and build each bit modularly and then test it together in cli_menus.py (which did not work last time but...!!)\n",
    "\n",
    "Lets try view and delete next:\n"
   ]
  },
  {
   "cell_type": "code",
   "execution_count": null,
   "metadata": {},
   "outputs": [],
   "source": [
    "my_tracked_podcasts = [\n",
    "    {\n",
    "        'title': 'The Rest is History',\n",
    "        'ep_dloads': 3,\n",
    "        'tracked_from': '11/04/23',\n",
    "        'link': 'https://shows.acast.com/the-rest-is-history-podcast',\n",
    "        'last_ep': '23/04/23 - \"Atlantis\"'\n",
    "    },\n",
    "    {\n",
    "        'title': 'The Rest is Politics',\n",
    "        'ep_dloads': 28,\n",
    "        'tracked_from': '11/10/22',\n",
    "        'link': 'https://shows.acast.com/the-rest-is-poltics-podcast',\n",
    "        'last_ep': '23/04/23 - \"Macron, Xi Jinping and striking teachers\"'\n",
    "    }\n",
    "]\n",
    "\n",
    "# def view_and_delete(my_tracked_podcasts):\n",
    "#     print(\"-----VIEW AND DELETE-----\\n\")\n",
    "    # for podcast in my_tracked_podcasts:\n",
    "    #     for k, v in podcast.items():\n",
    "    #         print(k)\n",
    "    #         print(v)\n",
    "\n",
    "def view_and_delete(my_tracked_podcasts):\n",
    "    print(\"-----VIEW AND DELETE-----\\n\")\n",
    "    idx = 1\n",
    "    for pod in my_tracked_podcasts:\n",
    "        print(f\"{idx}. {pod['title'].upper()}\",\n",
    "             f\"{24 * '-'}\",\n",
    "             f\"Episodes downloaded: {pod['ep_dloads']}\",\n",
    "             f\"Tracked from: {pod['tracked_from']}\",\n",
    "             f\"Lastest episode: {pod['last_ep']}\",\n",
    "             f\"Link: {pod['link']}\",\"\",\n",
    "             sep='\\n')\n",
    "        idx += 1\n",
    "    valid_choices = list(range(1, idx))\n",
    "    print(valid_choices)\n",
    "\n",
    "#print(\"Enter the podcast number to delete: \\nConfirm by typing YES in CAPITALS: \\n\")\n",
    "view_and_delete(my_tracked_podcasts)\n"
   ]
  },
  {
   "attachments": {},
   "cell_type": "markdown",
   "metadata": {},
   "source": [
    "NEXT UP - \n",
    "\n",
    "- Add user options (don't forget return to main menu)\n",
    "- Validate user option with valid choices (need to add 'r' or whatever)\n",
    "- Add the confirm deletion...\n",
    "- I guess we need a multiple deletion loop"
   ]
  },
  {
   "cell_type": "code",
   "execution_count": null,
   "metadata": {},
   "outputs": [],
   "source": [
    "# def search_and_add():\n",
    "#     print(\"-----SEARCH AND ADD MENU-----\\nEnter a search term: \\n\")\n",
    "    \n",
    "    # \"--------DISPLAY SEARCH RESULTS-------\"\n",
    "    # \"0. - Ring Rust Radio // Ring Rust Studios // April, 2023 // https://www.spreaker.com/show/ringrustradio \"\n",
    "    # \"1. - Attention Horrors // Ring Rust Studios // June, 2019 // https://www.spreaker.com/show/attention-horrors \"\n",
    "\n",
    "    # \"--------SEARCH OPTIONS-------\"\n",
    "    # \"Enter (1 to {valid_idx}) to track a podcast\"\n",
    "    # \"Enter 'r' to (r)etry a new search term\"\n",
    "    # \"Enter 'q' to (q)uit search and return to the main menu\"\n",
    "\n",
    "    # \"--------SAVE PODCAST-------\"\n",
    "\n",
    "# ??? Validate feed, by downloading last ~10 per episode feeds?\n",
    "# ??? Display detail podcast information\n",
    "# ??? Offer download recent episodes?\n",
    "# Enter (y)es to confirm tracking podcast\"\n",
    "\n",
    "# -----DISPLAY TRACKED PODCASTS-----\n",
    "# def main():\n",
    "#     usr_choice = main_menu()\n",
    "#     if usr_choice =='search_and_add':\n",
    "#         search_and_add()\n",
    "#     if usr_choice == '' \n",
    "# main()\n"
   ]
  }
 ],
 "metadata": {
  "kernelspec": {
   "display_name": "venv",
   "language": "python",
   "name": "python3"
  },
  "language_info": {
   "codemirror_mode": {
    "name": "ipython",
    "version": 3
   },
   "file_extension": ".py",
   "mimetype": "text/x-python",
   "name": "python",
   "nbconvert_exporter": "python",
   "pygments_lexer": "ipython3",
   "version": "3.10.4"
  },
  "orig_nbformat": 4
 },
 "nbformat": 4,
 "nbformat_minor": 2
}
