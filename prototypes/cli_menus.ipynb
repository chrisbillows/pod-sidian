{
 "cells": [
  {
   "attachments": {},
   "cell_type": "markdown",
   "metadata": {},
   "source": [
    "# Menu Functionality\n",
    "\n",
    "Lets try and build the most simple menu loops possible (after the debacle protoype of last week!)\n",
    "\n",
    "First attempt is the most basic I can imagine. \n",
    "\n",
    "Each menu is a function with a series of options.  And mock a little bit of functionality if I can't avoid it.\n",
    "\n",
    "THE GOAL - the most simple spine possible.  Worry about making it modular etc. and classes and all those things afterwards.\n",
    "\n",
    "SIMPLE!"
   ]
  },
  {
   "cell_type": "code",
   "execution_count": 2,
   "metadata": {},
   "outputs": [
    {
     "name": "stdout",
     "output_type": "stream",
     "text": [
      "----------MAIN MENU----------\n",
      "1. View and delete tracked podcasts\n",
      "2. Search and add a new podcast\n",
      "q. Quit the program\n",
      "\n"
     ]
    },
    {
     "data": {
      "text/plain": [
       "'view_and_delete'"
      ]
     },
     "execution_count": 2,
     "metadata": {},
     "output_type": "execute_result"
    }
   ],
   "source": [
    "def validate(valid_choices, usr_choice):\n",
    "    if usr_choice in valid_choices:\n",
    "        return True \n",
    "    else:\n",
    "        print(f\">>> INVALID CHOICE: Please pick again from: {', '.join(str(x) for x in valid_choices)}\")\n",
    "        return False\n",
    "\n",
    "def main_menu():\n",
    "    print(\"----------MAIN MENU----------\\n1. View and delete tracked podcasts\\n2. Search and add a new podcast\\nq. Quit the program\\n\")\n",
    "    \n",
    "    # REMEMBER: nums as strings - using nums for UX proclivity, no need for them to be nums with more complex validation\n",
    "    menus = {'1': 'view_and_delete'  , '2': 'search_and_add', 'q': 'quit' }\n",
    "    \n",
    "    valid_choices = list(menus.keys())\n",
    "    valid = False \n",
    "    while valid == False:\n",
    "        user_choice = input(\": \")\n",
    "        valid = validate(valid_choices, user_choice)\n",
    "    go_to_menu = menus[user_choice]\n",
    "    return go_to_menu\n",
    "\n",
    "main_menu()"
   ]
  },
  {
   "attachments": {},
   "cell_type": "markdown",
   "metadata": {},
   "source": [
    "So this works. Yes, yes, I used a validation function but this one should work for ANY menu...\n",
    "\n",
    "Am going to try and build each bit modularly and then test it together in cli_menus.py (which did not work last time but...!!)\n",
    "\n",
    "Lets try view and delete next:\n"
   ]
  },
  {
   "cell_type": "code",
   "execution_count": 2,
   "metadata": {},
   "outputs": [
    {
     "name": "stdout",
     "output_type": "stream",
     "text": [
      "-----VIEW AND DELETE-----\n",
      "\n",
      "0. THE REST IS HISTORY\n",
      "------------------------\n",
      "Episodes downloaded: 3\n",
      "Tracked from: 11/04/23\n",
      "Lastest episode: 23/04/23 - \"Atlantis\"\n",
      "Link: https://shows.acast.com/the-rest-is-history-podcast\n",
      "\n",
      "1. THE REST IS POLITICS\n",
      "------------------------\n",
      "Episodes downloaded: 28\n",
      "Tracked from: 11/10/22\n",
      "Lastest episode: 23/04/23 - \"Macron, Xi Jinping and striking teachers\"\n",
      "Link: https://shows.acast.com/the-rest-is-poltics-podcast\n",
      "\n",
      "[1, 2]\n"
     ]
    }
   ],
   "source": [
    "my_tracked_podcasts = [\n",
    "    {\n",
    "        'title': 'The Rest is History',\n",
    "        'ep_dloads': 3,\n",
    "        'tracked_from': '11/04/23',\n",
    "        'link': 'https://shows.acast.com/the-rest-is-history-podcast',\n",
    "        'last_ep': '23/04/23 - \"Atlantis\"'\n",
    "    },\n",
    "    {\n",
    "        'title': 'The Rest is Politics',\n",
    "        'ep_dloads': 28,\n",
    "        'tracked_from': '11/10/22',\n",
    "        'link': 'https://shows.acast.com/the-rest-is-poltics-podcast',\n",
    "        'last_ep': '23/04/23 - \"Macron, Xi Jinping and striking teachers\"'\n",
    "    }\n",
    "]\n",
    "\n",
    "# def view_and_delete(my_tracked_podcasts):\n",
    "#     print(\"-----VIEW AND DELETE-----\\n\")\n",
    "    # for podcast in my_tracked_podcasts:\n",
    "    #     for k, v in podcast.items():\n",
    "    #         print(k)\n",
    "    #         print(v)\n",
    "\n",
    "def view_and_delete(my_tracked_podcasts):\n",
    "    \n",
    "    print(\"-----VIEW AND DELETE-----\\n\")\n",
    "    \n",
    "        if tracked_pods == 0:\n",
    "        print(\"\\nYou don't have any saved podcasts!\\Returning to main menu.\")\n",
    "           \n",
    "\n",
    "    for idx, pod in enumerate(my_tracked_podcasts):\n",
    "        print(f\"{idx}. {pod['title'].upper()}\",\n",
    "             f\"{24 * '-'}\",\n",
    "             f\"Episodes downloaded: {pod['ep_dloads']}\",\n",
    "             f\"Tracked from: {pod['tracked_from']}\",\n",
    "             f\"Lastest episode: {pod['last_ep']}\",\n",
    "             f\"Link: {pod['link']}\",\"\",\n",
    "             sep='\\n')\n",
    "    \n",
    "    valid_idxs = list(range(1, len(my_tracked_podcasts)+1))\n",
    "\n",
    "    if len(valid_idxs) == 0:\n",
    "       \n",
    "\n",
    "    print(\"Enter 1 to {valid_indexes} to return to main menu\\n\")\n",
    "       \n",
    "    \n",
    "    \n",
    "    menus = {'q': 'quit' }\n",
    "\n",
    "    valid = False \n",
    "    while valid == False:\n",
    "        user_choice = input(\": \")\n",
    "        valid = validate(valid_choices, user_choice)\n",
    "    go_to_menu = menus[user_choice]\n",
    "\n",
    "#print(\"Enter the podcast number to delete: \\nConfirm by typing YES in CAPITALS: \\n\")\n",
    "view_and_delete(my_tracked_podcasts)\n"
   ]
  },
  {
   "cell_type": "code",
   "execution_count": null,
   "metadata": {},
   "outputs": [],
   "source": [
    "my_tracked_podcasts = [\n",
    "    {\n",
    "        'title': 'The Rest is History',\n",
    "        'ep_dloads': 3,\n",
    "        'tracked_from': '11/04/23',\n",
    "        'link': 'https://shows.acast.com/the-rest-is-history-podcast',\n",
    "        'last_ep': '23/04/23 - \"Atlantis\"'\n",
    "    },\n",
    "    {\n",
    "        'title': 'The Rest is Politics',\n",
    "        'ep_dloads': 28,\n",
    "        'tracked_from': '11/10/22',\n",
    "        'link': 'https://shows.acast.com/the-rest-is-poltics-podcast',\n",
    "        'last_ep': '23/04/23 - \"Macron, Xi Jinping and striking teachers\"'\n",
    "    }\n",
    "]\n",
    "\n",
    "# def view_and_delete(my_tracked_podcasts):\n",
    "#     print(\"-----VIEW AND DELETE-----\\n\")\n",
    "    # for podcast in my_tracked_podcasts:\n",
    "    #     for k, v in podcast.items():\n",
    "    #         print(k)\n",
    "    #         print(v)\n",
    "\n",
    "def view_and_delete(my_tracked_podcasts):\n",
    "    while True:\n",
    "        print(\"-----VIEW AND DELETE-----\\n\")\n",
    "        tracked_pods = len(my_tracked_podcasts)\n",
    "\n",
    "        if tracked_pods == 0:\n",
    "            print(\"\\nYou don't have any saved podcasts!\\Returning to main menu.\")\n",
    "            break        \n",
    "\n",
    "        for idx, pod in enumerate(my_tracked_podcasts):\n",
    "            print(f\"{idx}. {pod['title'].upper()}\",\n",
    "                f\"{24 * '-'}\",\n",
    "                f\"Episodes downloaded: {pod['ep_dloads']}\",\n",
    "                f\"Tracked from: {pod['tracked_from']}\",\n",
    "                f\"Lastest episode: {pod['last_ep']}\",\n",
    "                f\"Link: {pod['link']}\",\"\",\n",
    "                sep='\\n')\n",
    "        \n",
    "        valid_idxs = list(range(1, len(my_tracked_podcasts)+1))\n",
    "\n",
    "        if len(valid_idxs) == 0:\n",
    "        \n",
    "\n",
    "        print(\"Enter 1 to {valid_indexes} to return to main menu\\n\")\n",
    "        \n",
    "        \n",
    "        \n",
    "        menus = {'q': 'quit' }\n",
    "\n",
    "    \n",
    "\n",
    "#print(\"Enter the podcast number to delete: \\nConfirm by typing YES in CAPITALS: \\n\")\n",
    "view_and_delete(my_tracked_podcasts)\n"
   ]
  },
  {
   "attachments": {},
   "cell_type": "markdown",
   "metadata": {},
   "source": [
    "NEXT UP - \n",
    "\n",
    "- Add user options (don't forget return to main menu)\n",
    "- Validate user option with valid choices (need to add 'r' or whatever)\n",
    "- Add the confirm deletion...\n",
    "- I guess we need a multiple deletion loop"
   ]
  },
  {
   "cell_type": "code",
   "execution_count": null,
   "metadata": {},
   "outputs": [],
   "source": [
    "# def search_and_add():\n",
    "#     print(\"-----SEARCH AND ADD MENU-----\\nEnter a search term: \\n\")\n",
    "    \n",
    "    # \"--------DISPLAY SEARCH RESULTS-------\"\n",
    "    # \"0. - Ring Rust Radio // Ring Rust Studios // April, 2023 // https://www.spreaker.com/show/ringrustradio \"\n",
    "    # \"1. - Attention Horrors // Ring Rust Studios // June, 2019 // https://www.spreaker.com/show/attention-horrors \"\n",
    "\n",
    "    # \"--------SEARCH OPTIONS-------\"\n",
    "    # \"Enter (1 to {valid_idx}) to track a podcast\"\n",
    "    # \"Enter 'r' to (r)etry a new search term\"\n",
    "    # \"Enter 'q' to (q)uit search and return to the main menu\"\n",
    "\n",
    "    # \"--------SAVE PODCAST-------\"\n",
    "\n",
    "# ??? Validate feed, by downloading last ~10 per episode feeds?\n",
    "# ??? Display detail podcast information\n",
    "# ??? Offer download recent episodes?\n",
    "# Enter (y)es to confirm tracking podcast\"\n",
    "\n",
    "# -----DISPLAY TRACKED PODCASTS-----\n",
    "# def main():\n",
    "#     usr_choice = main_menu()\n",
    "#     if usr_choice =='search_and_add':\n",
    "#         search_and_add()\n",
    "#     if usr_choice == '' \n",
    "# main()\n"
   ]
  },
  {
   "cell_type": "code",
   "execution_count": 3,
   "metadata": {},
   "outputs": [
    {
     "name": "stdout",
     "output_type": "stream",
     "text": [
      "[]\n"
     ]
    }
   ],
   "source": [
    "# handling empty list\n",
    "my_tracked_podcasts = []\n",
    "valid_idxs = list(range(1, len(my_tracked_podcasts)+1))\n",
    "print(valid_idxs)"
   ]
  },
  {
   "cell_type": "code",
   "execution_count": 12,
   "metadata": {},
   "outputs": [
    {
     "name": "stdout",
     "output_type": "stream",
     "text": [
      "1, 2, 3, b\n"
     ]
    }
   ],
   "source": [
    "# adding q option to index list\n",
    "a = [1, 2, 3]\n",
    "b = 'q'\n",
    "c = ', '.join(str(x) for x in a) + ', b'\n",
    "print(c)"
   ]
  },
  {
   "cell_type": "code",
   "execution_count": 19,
   "metadata": {},
   "outputs": [
    {
     "name": "stdout",
     "output_type": "stream",
     "text": [
      "-----VIEW AND DELETE-----\n",
      "\n",
      "1. THE REST IS HISTORY\n",
      "------------------------\n",
      "Episodes downloaded: 3\n",
      "Tracked from: 11/04/23\n",
      "Lastest episode: 23/04/23 - \"Atlantis\"\n",
      "Link: https://shows.acast.com/the-rest-is-history-podcast\n",
      "\n",
      "2. THE REST IS POLITICS\n",
      "------------------------\n",
      "Episodes downloaded: 28\n",
      "Tracked from: 11/10/22\n",
      "Lastest episode: 23/04/23 - \"Macron, Xi Jinping and striking teachers\"\n",
      "Link: https://shows.acast.com/the-rest-is-poltics-podcast\n",
      "\n"
     ]
    }
   ],
   "source": [
    "# checking display with enumerated list\n",
    "\n",
    "tracked_pods = [\n",
    "    (1, \n",
    "    {\n",
    "        'title': 'The Rest is History',\n",
    "        'ep_dloads': 3,\n",
    "        'tracked_from': '11/04/23',\n",
    "        'link': 'https://shows.acast.com/the-rest-is-history-podcast',\n",
    "        'last_ep': '23/04/23 - \"Atlantis\"'\n",
    "    }),\n",
    "    (2, \n",
    "    {\n",
    "        'title': 'The Rest is Politics',\n",
    "        'ep_dloads': 28,\n",
    "        'tracked_from': '11/10/22',\n",
    "        'link': 'https://shows.acast.com/the-rest-is-poltics-podcast',\n",
    "        'last_ep': '23/04/23 - \"Macron, Xi Jinping and striking teachers\"'\n",
    "    })\n",
    "]\n",
    "\n",
    "print(\"-----VIEW AND DELETE-----\\n\")\n",
    "for idx, pod in tracked_pods:\n",
    "    print(f\"{idx}. {pod['title'].upper()}\",\n",
    "    f\"{24 * '-'}\",\n",
    "    f\"Episodes downloaded: {pod['ep_dloads']}\",\n",
    "    f\"Tracked from: {pod['tracked_from']}\",\n",
    "    f\"Lastest episode: {pod['last_ep']}\",\n",
    "    f\"Link: {pod['link']}\",\"\",\n",
    "    sep='\\n')\n"
   ]
  },
  {
   "cell_type": "code",
   "execution_count": 20,
   "metadata": {},
   "outputs": [
    {
     "name": "stdout",
     "output_type": "stream",
     "text": [
      "[(0, {}), (1, {})]\n"
     ]
    }
   ],
   "source": [
    "# confirming enumerate list ouput\n",
    "lst = [{},{}]\n",
    "print(list(enumerate(lst)))"
   ]
  },
  {
   "cell_type": "code",
   "execution_count": 28,
   "metadata": {},
   "outputs": [
    {
     "name": "stdout",
     "output_type": "stream",
     "text": [
      "[(1, {'title': 'The Rest is History', 'ep_dloads': 3, 'tracked_from': '11/04/23', 'link': 'https://shows.acast.com/the-rest-is-history-podcast', 'last_ep': '23/04/23 - \"Atlantis\"'}), (2, {'title': 'The Rest is Politics', 'ep_dloads': 28, 'tracked_from': '11/10/22', 'link': 'https://shows.acast.com/the-rest-is-poltics-podcast', 'last_ep': '23/04/23 - \"Macron, Xi Jinping and striking teachers\"'})]\n"
     ]
    }
   ],
   "source": [
    "# test deletion for loop\n",
    "\n",
    "tracked_pods = [\n",
    "    (1, \n",
    "    {\n",
    "        'title': 'The Rest is History',\n",
    "        'ep_dloads': 3,\n",
    "        'tracked_from': '11/04/23',\n",
    "        'link': 'https://shows.acast.com/the-rest-is-history-podcast',\n",
    "        'last_ep': '23/04/23 - \"Atlantis\"'\n",
    "    }),\n",
    "    (2, \n",
    "    {\n",
    "        'title': 'The Rest is Politics',\n",
    "        'ep_dloads': 28,\n",
    "        'tracked_from': '11/10/22',\n",
    "        'link': 'https://shows.acast.com/the-rest-is-poltics-podcast',\n",
    "        'last_ep': '23/04/23 - \"Macron, Xi Jinping and striking teachers\"'\n",
    "    })\n",
    "]\n",
    "\n",
    "for podcast in tracked_pods[:]:\n",
    "    if podcast[0] == 3:\n",
    "        tracked_pods.remove(podcast)\n",
    "print(tracked_pods)\n",
    "\n"
   ]
  },
  {
   "cell_type": "code",
   "execution_count": null,
   "metadata": {},
   "outputs": [],
   "source": []
  }
 ],
 "metadata": {
  "kernelspec": {
   "display_name": "venv",
   "language": "python",
   "name": "python3"
  },
  "language_info": {
   "codemirror_mode": {
    "name": "ipython",
    "version": 3
   },
   "file_extension": ".py",
   "mimetype": "text/x-python",
   "name": "python",
   "nbconvert_exporter": "python",
   "pygments_lexer": "ipython3",
   "version": "3.10.4"
  },
  "orig_nbformat": 4
 },
 "nbformat": 4,
 "nbformat_minor": 2
}
